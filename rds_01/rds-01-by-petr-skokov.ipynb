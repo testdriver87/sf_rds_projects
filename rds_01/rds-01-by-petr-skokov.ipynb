{
 "cells": [
  {
   "cell_type": "markdown",
   "metadata": {},
   "source": [
    "# Import"
   ]
  },
  {
   "cell_type": "code",
   "execution_count": 1,
   "metadata": {
    "_cell_guid": "b1076dfc-b9ad-4769-8c92-a6c4dae69d19",
    "_uuid": "8f2839f25d086af736a60e9eeb907d3b93b6e0e5"
   },
   "outputs": [
    {
     "name": "stdout",
     "output_type": "stream",
     "text": [
      "/kaggle/input/sf-dst-restaurant-rating/kaggle_task.csv\n",
      "/kaggle/input/sf-dst-restaurant-rating/main_task.csv\n",
      "/kaggle/input/sf-dst-restaurant-rating/sample_submission.csv\n"
     ]
    }
   ],
   "source": [
    "# This Python 3 environment comes with many helpful analytics libraries installed\n",
    "# It is defined by the kaggle/python docker image: https://github.com/kaggle/docker-python\n",
    "# For example, here's several helpful packages to load in \n",
    "\n",
    "import numpy as np # linear algebra\n",
    "import pandas as pd # data processing, CSV file I/O (e.g. pd.read_csv)\n",
    "\n",
    "import ast\n",
    "\n",
    "from datetime import datetime\n",
    "import time\n",
    "CURRENT_DATE = pd.to_datetime('14/03/2020')\n",
    "\n",
    "import matplotlib.pyplot as plt\n",
    "import seaborn as sns \n",
    "%matplotlib inline\n",
    "\n",
    "from sklearn.model_selection import train_test_split\n",
    "from sklearn.preprocessing import LabelEncoder\n",
    "\n",
    "def get_list(list_string):\n",
    "    result_list = ast.literal_eval(list_string)\n",
    "    return result_list\n",
    "\n",
    "# Input data files are available in the \"../input/\" directory.\n",
    "# For example, running this (by clicking run or pressing Shift+Enter) will list all files under the input directory\n",
    "\n",
    "import os\n",
    "for dirname, _, filenames in os.walk('/kaggle/input'):\n",
    "    for filename in filenames:\n",
    "        print(os.path.join(dirname, filename))\n",
    "\n",
    "# Any results you write to the current directory are saved as output."
   ]
  },
  {
   "cell_type": "code",
   "execution_count": 2,
   "metadata": {},
   "outputs": [],
   "source": [
    "# всегда фиксируйте RANDOM_SEED, чтобы ваши эксперименты были воспроизводимы!\n",
    "RANDOM_SEED = 42"
   ]
  },
  {
   "cell_type": "code",
   "execution_count": 3,
   "metadata": {},
   "outputs": [],
   "source": [
    "# зафиксируем версию пакетов, чтобы эксперименты были воспроизводимы:\n",
    "!pip freeze > requirements.txt"
   ]
  },
  {
   "cell_type": "markdown",
   "metadata": {},
   "source": [
    "# Data Preprocessing"
   ]
  },
  {
   "cell_type": "code",
   "execution_count": 4,
   "metadata": {},
   "outputs": [],
   "source": [
    "# на всякий случай, заново подгружаем данные\n",
    "DATA_DIR = '/kaggle/input/sf-dst-restaurant-rating/'\n",
    "df_train = pd.read_csv(DATA_DIR+'/main_task.csv')\n",
    "df_test = pd.read_csv(DATA_DIR+'/kaggle_task.csv')\n",
    "sample_submission = pd.read_csv(DATA_DIR+'/sample_submission.csv')\n",
    "df_train['sample'] = 1 # помечаем где у нас трейн\n",
    "df_test['sample'] = 0 # помечаем где у нас тест\n",
    "df_test['Rating'] = 0 # в тесте у нас нет значения Rating, мы его должны предсказать, по этому пока просто заполняем нулями\n",
    "\n",
    "data = df_test.append(df_train, sort=False).reset_index(drop=True) # объединяем\n",
    "\n",
    "#data['Cuisine Style 1'] = data['Cuisine Style'].str[2:-2].str.split(\"', '\").fillna(\"Usual\")"
   ]
  },
  {
   "cell_type": "code",
   "execution_count": 5,
   "metadata": {},
   "outputs": [
    {
     "data": {
      "text/html": [
       "<div>\n",
       "<style scoped>\n",
       "    .dataframe tbody tr th:only-of-type {\n",
       "        vertical-align: middle;\n",
       "    }\n",
       "\n",
       "    .dataframe tbody tr th {\n",
       "        vertical-align: top;\n",
       "    }\n",
       "\n",
       "    .dataframe thead th {\n",
       "        text-align: right;\n",
       "    }\n",
       "</style>\n",
       "<table border=\"1\" class=\"dataframe\">\n",
       "  <thead>\n",
       "    <tr style=\"text-align: right;\">\n",
       "      <th></th>\n",
       "      <th>Restaurant_id</th>\n",
       "      <th>City</th>\n",
       "      <th>Cuisine Style</th>\n",
       "      <th>Ranking</th>\n",
       "      <th>Price Range</th>\n",
       "      <th>Number of Reviews</th>\n",
       "      <th>Reviews</th>\n",
       "      <th>URL_TA</th>\n",
       "      <th>ID_TA</th>\n",
       "      <th>sample</th>\n",
       "      <th>Rating</th>\n",
       "    </tr>\n",
       "  </thead>\n",
       "  <tbody>\n",
       "    <tr>\n",
       "      <th>15122</th>\n",
       "      <td>id_125</td>\n",
       "      <td>Budapest</td>\n",
       "      <td>['European', 'Eastern European', 'Central Euro...</td>\n",
       "      <td>126.0</td>\n",
       "      <td>$$ - $$$</td>\n",
       "      <td>1093.0</td>\n",
       "      <td>[['Nice dinner', 'Amazing!'], ['01/06/2018', '...</td>\n",
       "      <td>/Restaurant_Review-g274887-d798846-Reviews-Bel...</td>\n",
       "      <td>d798846</td>\n",
       "      <td>1</td>\n",
       "      <td>4.5</td>\n",
       "    </tr>\n",
       "    <tr>\n",
       "      <th>10689</th>\n",
       "      <td>id_1033</td>\n",
       "      <td>Dublin</td>\n",
       "      <td>['Irish', 'International', 'European']</td>\n",
       "      <td>1035.0</td>\n",
       "      <td>$$ - $$$</td>\n",
       "      <td>230.0</td>\n",
       "      <td>[['Appalling breakast for which I was charged....</td>\n",
       "      <td>/Restaurant_Review-g186605-d1553821-Reviews-Ca...</td>\n",
       "      <td>d1553821</td>\n",
       "      <td>1</td>\n",
       "      <td>3.5</td>\n",
       "    </tr>\n",
       "    <tr>\n",
       "      <th>7581</th>\n",
       "      <td>id_7581</td>\n",
       "      <td>Paris</td>\n",
       "      <td>NaN</td>\n",
       "      <td>10388.0</td>\n",
       "      <td>NaN</td>\n",
       "      <td>9.0</td>\n",
       "      <td>[['Very good fish in the sushi, service shoul....</td>\n",
       "      <td>/Restaurant_Review-g187147-d4809044-Reviews-Le...</td>\n",
       "      <td>d4809044</td>\n",
       "      <td>0</td>\n",
       "      <td>0.0</td>\n",
       "    </tr>\n",
       "    <tr>\n",
       "      <th>39066</th>\n",
       "      <td>id_774</td>\n",
       "      <td>Munich</td>\n",
       "      <td>['Italian', 'Mediterranean']</td>\n",
       "      <td>782.0</td>\n",
       "      <td>$$$$</td>\n",
       "      <td>59.0</td>\n",
       "      <td>[['Fine dining', 'Surprisingly good and stylis...</td>\n",
       "      <td>/Restaurant_Review-g187309-d1071094-Reviews-Pe...</td>\n",
       "      <td>d1071094</td>\n",
       "      <td>1</td>\n",
       "      <td>4.5</td>\n",
       "    </tr>\n",
       "    <tr>\n",
       "      <th>22278</th>\n",
       "      <td>id_976</td>\n",
       "      <td>Rome</td>\n",
       "      <td>['Italian', 'Mediterranean', 'Wine Bar', 'Vege...</td>\n",
       "      <td>977.0</td>\n",
       "      <td>$$ - $$$</td>\n",
       "      <td>668.0</td>\n",
       "      <td>[['A quirky must visit', 'Genuine and deliciou...</td>\n",
       "      <td>/Restaurant_Review-g187791-d793195-Reviews-Giu...</td>\n",
       "      <td>d793195</td>\n",
       "      <td>1</td>\n",
       "      <td>4.0</td>\n",
       "    </tr>\n",
       "  </tbody>\n",
       "</table>\n",
       "</div>"
      ],
      "text/plain": [
       "      Restaurant_id      City  \\\n",
       "15122        id_125  Budapest   \n",
       "10689       id_1033    Dublin   \n",
       "7581        id_7581     Paris   \n",
       "39066        id_774    Munich   \n",
       "22278        id_976      Rome   \n",
       "\n",
       "                                           Cuisine Style  Ranking Price Range  \\\n",
       "15122  ['European', 'Eastern European', 'Central Euro...    126.0    $$ - $$$   \n",
       "10689             ['Irish', 'International', 'European']   1035.0    $$ - $$$   \n",
       "7581                                                 NaN  10388.0         NaN   \n",
       "39066                       ['Italian', 'Mediterranean']    782.0        $$$$   \n",
       "22278  ['Italian', 'Mediterranean', 'Wine Bar', 'Vege...    977.0    $$ - $$$   \n",
       "\n",
       "       Number of Reviews                                            Reviews  \\\n",
       "15122             1093.0  [['Nice dinner', 'Amazing!'], ['01/06/2018', '...   \n",
       "10689              230.0  [['Appalling breakast for which I was charged....   \n",
       "7581                 9.0  [['Very good fish in the sushi, service shoul....   \n",
       "39066               59.0  [['Fine dining', 'Surprisingly good and stylis...   \n",
       "22278              668.0  [['A quirky must visit', 'Genuine and deliciou...   \n",
       "\n",
       "                                                  URL_TA     ID_TA  sample  \\\n",
       "15122  /Restaurant_Review-g274887-d798846-Reviews-Bel...   d798846       1   \n",
       "10689  /Restaurant_Review-g186605-d1553821-Reviews-Ca...  d1553821       1   \n",
       "7581   /Restaurant_Review-g187147-d4809044-Reviews-Le...  d4809044       0   \n",
       "39066  /Restaurant_Review-g187309-d1071094-Reviews-Pe...  d1071094       1   \n",
       "22278  /Restaurant_Review-g187791-d793195-Reviews-Giu...   d793195       1   \n",
       "\n",
       "       Rating  \n",
       "15122     4.5  \n",
       "10689     3.5  \n",
       "7581      0.0  \n",
       "39066     4.5  \n",
       "22278     4.0  "
      ]
     },
     "execution_count": 5,
     "metadata": {},
     "output_type": "execute_result"
    }
   ],
   "source": [
    "data.sample(5)"
   ]
  },
  {
   "cell_type": "code",
   "execution_count": 6,
   "metadata": {},
   "outputs": [
    {
     "name": "stdout",
     "output_type": "stream",
     "text": [
      "<class 'pandas.core.frame.DataFrame'>\n",
      "RangeIndex: 50000 entries, 0 to 49999\n",
      "Data columns (total 11 columns):\n",
      "Restaurant_id        50000 non-null object\n",
      "City                 50000 non-null object\n",
      "Cuisine Style        38410 non-null object\n",
      "Ranking              50000 non-null float64\n",
      "Price Range          32639 non-null object\n",
      "Number of Reviews    46800 non-null float64\n",
      "Reviews              49998 non-null object\n",
      "URL_TA               50000 non-null object\n",
      "ID_TA                50000 non-null object\n",
      "sample               50000 non-null int64\n",
      "Rating               50000 non-null float64\n",
      "dtypes: float64(3), int64(1), object(7)\n",
      "memory usage: 4.2+ MB\n"
     ]
    }
   ],
   "source": [
    "data.info()"
   ]
  },
  {
   "cell_type": "code",
   "execution_count": 7,
   "metadata": {},
   "outputs": [],
   "source": [
    "def preproc_data(df_input):\n",
    "    \n",
    "    df_output = df_input.copy()\n",
    "    \n",
    "    # ################### 1. Предобработка ############################################################## \n",
    "    # убираем не нужные для модели признаки\n",
    "    \n",
    "    #df_output.drop(['','',], axis = 1, inplace=True)\n",
    "    \n",
    "    \n",
    "    # ################### 2. NAN ############################################################## \n",
    "    # Далее заполняем пропуски, вы можете попробовать заполнением средним или средним по городу и тд...\n",
    "    \n",
    "    df_output['Cuisine Style isNAN'] = pd.isna(df_output['Cuisine Style']).astype('uint8')\n",
    "    #df_output['Price Range isNAN'] = pd.isna(df_output['Price Range']).astype('uint8')\n",
    "    df_output['Number of Reviews isNAN'] = pd.isna(df_output['Number of Reviews']).astype('uint8')\n",
    "    df_output['Reviews isNAN'] = pd.isna(df_output['Reviews']).astype('uint8')\n",
    "    \n",
    "    df_output['Number of Reviews'] = df_output['Number of Reviews'].fillna(0)\n",
    "    #df_output['Price Range'] = df_output['Price Range'].fillna('$$ - $$$')\n",
    "    \n",
    "    \n",
    "    # ################### 3. Feature Engineering ####################################################\n",
    "    \n",
    "    ## видоизменение представления ценовых диапазонов ресторанов\n",
    "    price_range_dict = {'$': 1, '$$ - $$$': 2, '$$$$': 3}\n",
    "    df_output['Price Range'] = df_output['Price Range'].map(price_range_dict)\n",
    "    \n",
    "    ## создание признака \"население городов\"\n",
    "    population = {'Paris': 2190327, 'Stockholm': 961609, 'London': 8908081, 'Berlin': 3644826, 'Munich': 1456039, 'Oporto': 237591,\n",
    "                  'Milan': 1378689,'Bratislava': 432864, 'Vienna': 1821582, 'Rome': 4355725, 'Barcelona': 1620343, 'Madrid': 3223334,\n",
    "                  'Dublin': 1173179,'Brussels': 179277, 'Zurich': 428737, 'Warsaw': 1758143, 'Budapest': 1752286, 'Copenhagen': 615993,\n",
    "                  'Amsterdam': 857713,'Lyon': 506615, 'Hamburg': 1841179,'Lisbon': 505526, 'Prague': 1301132, 'Oslo': 673469,\n",
    "                  'Helsinki': 643272,'Edinburgh': 488100,'Geneva': 200548, 'Ljubljana': 284355,'Athens': 664046, 'Luxembourg': 115227,\n",
    "                  'Krakow': 769498}\n",
    "    df_output['Population'] = df_output['City'].map(population)\n",
    "    \n",
    "    city_country = {'London': 'UK','Paris': 'France','Madrid': 'Spain','Barcelona': 'Spain','Berlin': 'Germany','Milan': 'Italy',\n",
    "                    'Rome': 'Italy','Prague': 'Czech','Lisbon': 'Portugalia','Vienna': 'Austria','Amsterdam': 'Nederlands','Brussels': 'Belgium ',\n",
    "                    'Hamburg': 'Germany','Munich': 'Germany','Lyon': 'France','Stockholm': 'Sweden','Budapest': 'Hungary','Warsaw': 'Poland',\n",
    "                    'Dublin': 'Ireland' ,'Copenhagen': 'Denmark','Athens': 'Greece','Edinburgh': 'Schotland','Zurich': 'Switzerland','Oporto': 'Portugal',\n",
    "                    'Geneva': 'Switzerland','Krakow': 'Poland','Oslo': 'Norway','Helsinki': 'Finland','Bratislava': 'Slovakia','Luxembourg': 'Luxembourg',\n",
    "                    'Ljubljana': 'Slovenija'}\n",
    "    df_output['Country'] = df_output['City'].map(city_country)\n",
    "    \n",
    "    ## создание признака \"количество ресторанов в городе\"\n",
    "    df_output['Rest per City'] = df_output['City'].map(df_output.groupby(['City'])['City'].count().to_dict())\n",
    "    \n",
    "    ## создание признака \"количество ресторанов на человека в городе\"\n",
    "    df_output['Pop per (Rest per City)'] = df_output['City'].map(population) / df_output['Rest per City']\n",
    "    \n",
    "    ## создание признака \"количество отзывов к количеству ресторанов на человека в городе\"\n",
    "    df_output['Rev per (Rest per Pers)'] = df_output['Number of Reviews'] / df_output['Pop per (Rest per City)']\n",
    "    \n",
    "    ## создание признака \"относительный рэнкинг\"\n",
    "    df_output['Relative Ranking'] = df_output['Ranking'] / df_output['Rest per City']\n",
    "    \n",
    "    ## создание признака \"ценовой диапазон vs относительный рэнкинг\"\n",
    "    #df_output['Relative Price Range'] = df_output['Price Range'] / df_output['Relative Ranking']\n",
    "    #df_output['Relative Price Range isNa'] = pd.isna(df_output['Relative Price Range']).astype('uint8')\n",
    "    #df_output['Relative Price Range'] = df_output['Relative Price Range'].fillna(df_output['Relative Price Range'].median())\n",
    "    \n",
    "    ## создание признака \"столица / не столица\"\n",
    "    capitals = ['London', 'Paris', 'Madrid', 'Berlin', 'Rome', 'Prague', 'Lisbon', 'Vienna', 'Amsterdam', 'Brussels', 'Stockholm','Budapest', \n",
    "                'Warsaw', 'Dublin', 'Copenhagen', 'Athens', 'Oslo', 'Helsinki', 'Bratislava', 'Luxembourg', 'Ljubljana', 'Edinburgh']\n",
    "    df_output['Capitals'] = df_output['City'].apply(lambda x: 1 if x in(capitals) else 0)\n",
    "    \n",
    "    ## создание признака \"код города\"\n",
    "    cities_le = LabelEncoder()\n",
    "    cities_le.fit(df_output['City'])\n",
    "    df_output['City Code'] = cities_le.transform(df_output['City'])\n",
    "    countries_le = LabelEncoder()\n",
    "    countries_le.fit(df_output['Country'])\n",
    "    df_output['Country Code'] = countries_le.transform(df_output['Country'])\n",
    "    \n",
    "    ## создание признака \"количество типов кухонь, представленных в ресторане\"\n",
    "    df_output['Cuisine Style New'] = df_output['Cuisine Style'].str[2:-2].str.split(\"', '\").str.len().fillna(1)\n",
    "    \n",
    "    ## создание признака \"сетевой ресторан\"\n",
    "    restaurant_chain = set()\n",
    "    for chain in df_output['Restaurant_id']:\n",
    "        restaurant_chain.update(chain)\n",
    "    def find_item(cell):\n",
    "        if item in cell:\n",
    "            return 1\n",
    "        return 0\n",
    "    for item in restaurant_chain:\n",
    "        df_output['Rest Chain'] = df_output['Restaurant_id'].apply(find_item)  \n",
    "    \n",
    "    ## создание признака \"ID URL_TA\"\n",
    "    df_output['URL_TA New'] = df_output['URL_TA'].apply(lambda x: float(x[20:26]))\n",
    "    \n",
    "    ## создание признака \"ID ID_TA\"\n",
    "    df_output['ID_TA New'] = df_output['ID_TA'].apply(lambda x: float(x[1:]))\n",
    "    \n",
    "    ## создание новых признаков на основе двух последних дат отзывов\n",
    "    def nan_to_default_date(list_string):\n",
    "        try:\n",
    "            list_string = list_string.replace('[nan', \"['01/01/2000'\")\n",
    "            list_string = list_string.replace('nan]', \"'01/01/2000']\")\n",
    "            list_string = list_string.replace('[]', \"['01/01/2000', '01/01/2000']\")\n",
    "        except:\n",
    "            list_string = \"[['None Review', 'None Review'], ['01/01/2000', '01/01/2000']]\"\n",
    "        return list_string\n",
    "    df_output['Reviews'] = df_output['Reviews'].apply(nan_to_default_date)\n",
    "    last_review = []\n",
    "    last_review_date = []\n",
    "    prelast_review = []\n",
    "    prelast_review_date = []\n",
    "    for reviews in df_output['Reviews']:\n",
    "        reviews_list = get_list(reviews)\n",
    "        if (len(reviews_list) == 2):\n",
    "            if (len(reviews_list[0]) == 2 and len(reviews_list[1]) == 2):\n",
    "                last_review.append(reviews_list[0][0])\n",
    "                last_review_date.append(reviews_list[1][0])\n",
    "                prelast_review.append(reviews_list[0][1])\n",
    "                prelast_review_date.append(reviews_list[1][1])\n",
    "            elif (len(reviews_list[0]) == 1 and len(reviews_list[1]) == 1):\n",
    "                last_review.append(reviews_list[0][0])\n",
    "                last_review_date.append(reviews_list[1][0])\n",
    "                prelast_review.append('None review')\n",
    "                prelast_review_date.append('01/01/2000')\n",
    "            else:\n",
    "                print(reviews_list)\n",
    "    df_output['Last Review'] = last_review\n",
    "    df_output['Last Review Date'] = last_review_date\n",
    "    df_output['Prelast Review'] = prelast_review\n",
    "    df_output['Prelast Review Date'] = prelast_review_date\n",
    "    df_output['Last Review Date'] = pd.to_datetime(df_output['Last Review Date'])\n",
    "    df_output['Prelast Review Date'] = pd.to_datetime(df_output['Prelast Review Date'])\n",
    "    df_output['Days Between Reviews'] = (df_output['Last Review Date'] - df_output['Prelast Review Date'])\n",
    "    def get_days(timedelta):\n",
    "        return timedelta.days\n",
    "    df_output['Days Between Reviews'] = abs(df_output['Days Between Reviews'].apply(get_days))\n",
    "    df_output['Days Since Last Review'] = df_output['Last Review Date'].apply(lambda date: CURRENT_DATE - date)\n",
    "    df_output['Days Since Last Review'] = df_output['Days Since Last Review'].apply(get_days)\n",
    "    \n",
    "    \n",
    "    # ################### 4. Encoding ############################################################## \n",
    "    # для One-Hot Encoding в pandas есть готовая функция - get_dummies. Особенно радует параметр dummy_na\n",
    "    \n",
    "    df_output = pd.get_dummies(df_output, columns = ['Price Range'], dummy_na = True)\n",
    "    df_output = pd.get_dummies(df_output, columns = ['Capitals'], dummy_na = False)\n",
    "    \n",
    "    \n",
    "    # ################### 5. Clean #################################################### \n",
    "    # убираем признаки которые еще не успели обработать, \n",
    "    # модель на признаках с dtypes \"object\" обучаться не будет, просто выберим их и удалим\n",
    "    \n",
    "    object_columns = [s for s in df_output.columns if (df_output[s].dtypes == 'object') or (df_output[s].dtypes == 'datetime64[ns]')]\n",
    "    df_output.drop(object_columns, axis = 1, inplace=True)\n",
    "    \n",
    "    \n",
    "    return df_output"
   ]
  },
  {
   "cell_type": "code",
   "execution_count": 8,
   "metadata": {},
   "outputs": [],
   "source": [
    "df_preproc = preproc_data(data)"
   ]
  },
  {
   "cell_type": "code",
   "execution_count": 9,
   "metadata": {},
   "outputs": [
    {
     "data": {
      "text/html": [
       "<div>\n",
       "<style scoped>\n",
       "    .dataframe tbody tr th:only-of-type {\n",
       "        vertical-align: middle;\n",
       "    }\n",
       "\n",
       "    .dataframe tbody tr th {\n",
       "        vertical-align: top;\n",
       "    }\n",
       "\n",
       "    .dataframe thead th {\n",
       "        text-align: right;\n",
       "    }\n",
       "</style>\n",
       "<table border=\"1\" class=\"dataframe\">\n",
       "  <thead>\n",
       "    <tr style=\"text-align: right;\">\n",
       "      <th></th>\n",
       "      <th>Ranking</th>\n",
       "      <th>Number of Reviews</th>\n",
       "      <th>sample</th>\n",
       "      <th>Rating</th>\n",
       "      <th>Cuisine Style isNAN</th>\n",
       "      <th>Number of Reviews isNAN</th>\n",
       "      <th>Reviews isNAN</th>\n",
       "      <th>Population</th>\n",
       "      <th>Rest per City</th>\n",
       "      <th>Pop per (Rest per City)</th>\n",
       "      <th>...</th>\n",
       "      <th>URL_TA New</th>\n",
       "      <th>ID_TA New</th>\n",
       "      <th>Days Between Reviews</th>\n",
       "      <th>Days Since Last Review</th>\n",
       "      <th>Price Range_1.0</th>\n",
       "      <th>Price Range_2.0</th>\n",
       "      <th>Price Range_3.0</th>\n",
       "      <th>Price Range_nan</th>\n",
       "      <th>Capitals_0</th>\n",
       "      <th>Capitals_1</th>\n",
       "    </tr>\n",
       "  </thead>\n",
       "  <tbody>\n",
       "    <tr>\n",
       "      <th>2990</th>\n",
       "      <td>12089.0</td>\n",
       "      <td>27.0</td>\n",
       "      <td>0</td>\n",
       "      <td>0.0</td>\n",
       "      <td>1</td>\n",
       "      <td>0</td>\n",
       "      <td>0</td>\n",
       "      <td>8908081</td>\n",
       "      <td>7193</td>\n",
       "      <td>1238.437509</td>\n",
       "      <td>...</td>\n",
       "      <td>186338.0</td>\n",
       "      <td>1501200.0</td>\n",
       "      <td>415</td>\n",
       "      <td>1002</td>\n",
       "      <td>0</td>\n",
       "      <td>0</td>\n",
       "      <td>0</td>\n",
       "      <td>1</td>\n",
       "      <td>0</td>\n",
       "      <td>1</td>\n",
       "    </tr>\n",
       "    <tr>\n",
       "      <th>6321</th>\n",
       "      <td>5991.0</td>\n",
       "      <td>3.0</td>\n",
       "      <td>0</td>\n",
       "      <td>0.0</td>\n",
       "      <td>1</td>\n",
       "      <td>0</td>\n",
       "      <td>0</td>\n",
       "      <td>3644826</td>\n",
       "      <td>2705</td>\n",
       "      <td>1347.440296</td>\n",
       "      <td>...</td>\n",
       "      <td>187323.0</td>\n",
       "      <td>1357805.0</td>\n",
       "      <td>3913</td>\n",
       "      <td>3465</td>\n",
       "      <td>0</td>\n",
       "      <td>0</td>\n",
       "      <td>0</td>\n",
       "      <td>1</td>\n",
       "      <td>0</td>\n",
       "      <td>1</td>\n",
       "    </tr>\n",
       "    <tr>\n",
       "      <th>34113</th>\n",
       "      <td>5883.0</td>\n",
       "      <td>0.0</td>\n",
       "      <td>1</td>\n",
       "      <td>4.0</td>\n",
       "      <td>0</td>\n",
       "      <td>1</td>\n",
       "      <td>0</td>\n",
       "      <td>1620343</td>\n",
       "      <td>3395</td>\n",
       "      <td>477.273343</td>\n",
       "      <td>...</td>\n",
       "      <td>187497.0</td>\n",
       "      <td>13170374.0</td>\n",
       "      <td>0</td>\n",
       "      <td>7378</td>\n",
       "      <td>0</td>\n",
       "      <td>1</td>\n",
       "      <td>0</td>\n",
       "      <td>0</td>\n",
       "      <td>1</td>\n",
       "      <td>0</td>\n",
       "    </tr>\n",
       "    <tr>\n",
       "      <th>47900</th>\n",
       "      <td>3582.0</td>\n",
       "      <td>4.0</td>\n",
       "      <td>1</td>\n",
       "      <td>5.0</td>\n",
       "      <td>0</td>\n",
       "      <td>0</td>\n",
       "      <td>0</td>\n",
       "      <td>1378689</td>\n",
       "      <td>2694</td>\n",
       "      <td>511.762806</td>\n",
       "      <td>...</td>\n",
       "      <td>187849.0</td>\n",
       "      <td>10637942.0</td>\n",
       "      <td>0</td>\n",
       "      <td>7378</td>\n",
       "      <td>1</td>\n",
       "      <td>0</td>\n",
       "      <td>0</td>\n",
       "      <td>0</td>\n",
       "      <td>1</td>\n",
       "      <td>0</td>\n",
       "    </tr>\n",
       "    <tr>\n",
       "      <th>36778</th>\n",
       "      <td>1619.0</td>\n",
       "      <td>196.0</td>\n",
       "      <td>1</td>\n",
       "      <td>4.5</td>\n",
       "      <td>0</td>\n",
       "      <td>0</td>\n",
       "      <td>0</td>\n",
       "      <td>8908081</td>\n",
       "      <td>7193</td>\n",
       "      <td>1238.437509</td>\n",
       "      <td>...</td>\n",
       "      <td>186338.0</td>\n",
       "      <td>780116.0</td>\n",
       "      <td>15</td>\n",
       "      <td>798</td>\n",
       "      <td>0</td>\n",
       "      <td>1</td>\n",
       "      <td>0</td>\n",
       "      <td>0</td>\n",
       "      <td>0</td>\n",
       "      <td>1</td>\n",
       "    </tr>\n",
       "  </tbody>\n",
       "</table>\n",
       "<p>5 rows × 26 columns</p>\n",
       "</div>"
      ],
      "text/plain": [
       "       Ranking  Number of Reviews  sample  Rating  Cuisine Style isNAN  \\\n",
       "2990   12089.0               27.0       0     0.0                    1   \n",
       "6321    5991.0                3.0       0     0.0                    1   \n",
       "34113   5883.0                0.0       1     4.0                    0   \n",
       "47900   3582.0                4.0       1     5.0                    0   \n",
       "36778   1619.0              196.0       1     4.5                    0   \n",
       "\n",
       "       Number of Reviews isNAN  Reviews isNAN  Population  Rest per City  \\\n",
       "2990                         0              0     8908081           7193   \n",
       "6321                         0              0     3644826           2705   \n",
       "34113                        1              0     1620343           3395   \n",
       "47900                        0              0     1378689           2694   \n",
       "36778                        0              0     8908081           7193   \n",
       "\n",
       "       Pop per (Rest per City)  ...  URL_TA New   ID_TA New  \\\n",
       "2990               1238.437509  ...    186338.0   1501200.0   \n",
       "6321               1347.440296  ...    187323.0   1357805.0   \n",
       "34113               477.273343  ...    187497.0  13170374.0   \n",
       "47900               511.762806  ...    187849.0  10637942.0   \n",
       "36778              1238.437509  ...    186338.0    780116.0   \n",
       "\n",
       "       Days Between Reviews  Days Since Last Review  Price Range_1.0  \\\n",
       "2990                    415                    1002                0   \n",
       "6321                   3913                    3465                0   \n",
       "34113                     0                    7378                0   \n",
       "47900                     0                    7378                1   \n",
       "36778                    15                     798                0   \n",
       "\n",
       "       Price Range_2.0  Price Range_3.0  Price Range_nan  Capitals_0  \\\n",
       "2990                 0                0                1           0   \n",
       "6321                 0                0                1           0   \n",
       "34113                1                0                0           1   \n",
       "47900                0                0                0           1   \n",
       "36778                1                0                0           0   \n",
       "\n",
       "       Capitals_1  \n",
       "2990            1  \n",
       "6321            1  \n",
       "34113           0  \n",
       "47900           0  \n",
       "36778           1  \n",
       "\n",
       "[5 rows x 26 columns]"
      ]
     },
     "execution_count": 9,
     "metadata": {},
     "output_type": "execute_result"
    }
   ],
   "source": [
    "df_preproc.sample(5)"
   ]
  },
  {
   "cell_type": "code",
   "execution_count": 10,
   "metadata": {},
   "outputs": [
    {
     "name": "stdout",
     "output_type": "stream",
     "text": [
      "<class 'pandas.core.frame.DataFrame'>\n",
      "RangeIndex: 50000 entries, 0 to 49999\n",
      "Data columns (total 26 columns):\n",
      "Ranking                    50000 non-null float64\n",
      "Number of Reviews          50000 non-null float64\n",
      "sample                     50000 non-null int64\n",
      "Rating                     50000 non-null float64\n",
      "Cuisine Style isNAN        50000 non-null uint8\n",
      "Number of Reviews isNAN    50000 non-null uint8\n",
      "Reviews isNAN              50000 non-null uint8\n",
      "Population                 50000 non-null int64\n",
      "Rest per City              50000 non-null int64\n",
      "Pop per (Rest per City)    50000 non-null float64\n",
      "Rev per (Rest per Pers)    50000 non-null float64\n",
      "Relative Ranking           50000 non-null float64\n",
      "City Code                  50000 non-null int64\n",
      "Country Code               50000 non-null int64\n",
      "Cuisine Style New          50000 non-null float64\n",
      "Rest Chain                 50000 non-null int64\n",
      "URL_TA New                 50000 non-null float64\n",
      "ID_TA New                  50000 non-null float64\n",
      "Days Between Reviews       50000 non-null int64\n",
      "Days Since Last Review     50000 non-null int64\n",
      "Price Range_1.0            50000 non-null uint8\n",
      "Price Range_2.0            50000 non-null uint8\n",
      "Price Range_3.0            50000 non-null uint8\n",
      "Price Range_nan            50000 non-null uint8\n",
      "Capitals_0                 50000 non-null uint8\n",
      "Capitals_1                 50000 non-null uint8\n",
      "dtypes: float64(9), int64(8), uint8(9)\n",
      "memory usage: 6.9 MB\n"
     ]
    }
   ],
   "source": [
    "df_preproc.info()"
   ]
  },
  {
   "cell_type": "code",
   "execution_count": 11,
   "metadata": {},
   "outputs": [],
   "source": [
    "# Теперь выделим тестовую часть\n",
    "train_data = df_preproc.query('sample == 1').drop(['sample'], axis=1)\n",
    "test_data = df_preproc.query('sample == 0').drop(['sample'], axis=1)\n",
    "y = train_data.Rating.values\n",
    "X = train_data.drop(['Rating'], axis=1)"
   ]
  },
  {
   "cell_type": "markdown",
   "metadata": {},
   "source": [
    "Перед тем как отправлять наши данные на обучение, разделим данные на еще один тест и трейн, для валидации. \n",
    "Это поможет нам проверить, как хорошо наша модель работает, до отправки submissiona на kaggle."
   ]
  },
  {
   "cell_type": "code",
   "execution_count": 12,
   "metadata": {},
   "outputs": [],
   "source": [
    "# Воспользуемся специальной функцие train_test_split для разбивки тестовых данных\n",
    "# выделим 20% данных на валидацию (параметр test_size)\n",
    "X_train, X_test, y_train, y_test = train_test_split(X, y, test_size=0.25, random_state=RANDOM_SEED)"
   ]
  },
  {
   "cell_type": "code",
   "execution_count": 13,
   "metadata": {},
   "outputs": [
    {
     "data": {
      "text/plain": [
       "((10000, 25), (40000, 25), (40000, 24), (30000, 24), (10000, 24))"
      ]
     },
     "execution_count": 13,
     "metadata": {},
     "output_type": "execute_result"
    }
   ],
   "source": [
    "# проверяем\n",
    "test_data.shape, train_data.shape, X.shape, X_train.shape, X_test.shape"
   ]
  },
  {
   "cell_type": "markdown",
   "metadata": {},
   "source": [
    "# Model"
   ]
  },
  {
   "cell_type": "code",
   "execution_count": 14,
   "metadata": {},
   "outputs": [],
   "source": [
    "# Импортируем необходимые библиотеки:\n",
    "from sklearn.ensemble import RandomForestRegressor # инструмент для создания и обучения модели\n",
    "from sklearn import metrics # инструменты для оценки точности модели"
   ]
  },
  {
   "cell_type": "code",
   "execution_count": 15,
   "metadata": {},
   "outputs": [],
   "source": [
    "# Создаём модель (НАСТРОЙКИ НЕ ТРОГАЕМ)\n",
    "model = RandomForestRegressor(n_estimators=100, verbose=1, n_jobs=-1, random_state=RANDOM_SEED)"
   ]
  },
  {
   "cell_type": "code",
   "execution_count": 16,
   "metadata": {},
   "outputs": [
    {
     "name": "stderr",
     "output_type": "stream",
     "text": [
      "[Parallel(n_jobs=-1)]: Using backend ThreadingBackend with 4 concurrent workers.\n",
      "[Parallel(n_jobs=-1)]: Done  42 tasks      | elapsed:    4.3s\n",
      "[Parallel(n_jobs=-1)]: Done 100 out of 100 | elapsed:   10.1s finished\n",
      "[Parallel(n_jobs=4)]: Using backend ThreadingBackend with 4 concurrent workers.\n",
      "[Parallel(n_jobs=4)]: Done  42 tasks      | elapsed:    0.0s\n",
      "[Parallel(n_jobs=4)]: Done 100 out of 100 | elapsed:    0.1s finished\n"
     ]
    }
   ],
   "source": [
    "# Обучаем модель на тестовом наборе данных\n",
    "model.fit(X_train, y_train)\n",
    "\n",
    "# Используем обученную модель для предсказания рейтинга ресторанов в тестовой выборке.\n",
    "# Предсказанные значения записываем в переменную y_pred\n",
    "y_pred = model.predict(X_test)"
   ]
  },
  {
   "cell_type": "code",
   "execution_count": 17,
   "metadata": {},
   "outputs": [],
   "source": [
    "# Округляем полученные значения рейтингов\n",
    "def round_d(rec):\n",
    "    if rec <0.25:\n",
    "        return 0\n",
    "    elif 0.25<rec<=0.75:\n",
    "        return 0.5\n",
    "    elif 0.75<rec<=1.25:\n",
    "        return 1\n",
    "    elif 1.25<rec<=1.75:\n",
    "        return 1.5\n",
    "    elif 1.75<rec<=2.25:\n",
    "        return 2\n",
    "    elif 2.25<rec<=2.75:\n",
    "        return 2.5\n",
    "    elif 2.75<rec<=3.25:\n",
    "        return 3\n",
    "    elif 3.25<rec<=3.75:\n",
    "        return 3.5\n",
    "    elif 3.75<rec<=4.25:\n",
    "        return 4\n",
    "    elif 4.25<rec<=4.75:\n",
    "        return 4.5\n",
    "    else:\n",
    "        return 5\n",
    "    \n",
    "for i in range(y_pred.size):\n",
    "    y_pred[i]=round_d(y_pred[i])"
   ]
  },
  {
   "cell_type": "code",
   "execution_count": 18,
   "metadata": {},
   "outputs": [
    {
     "name": "stdout",
     "output_type": "stream",
     "text": [
      "MAE: 0.16805\n"
     ]
    }
   ],
   "source": [
    "# Сравниваем предсказанные значения (y_pred) с реальными (y_test), и смотрим насколько они в среднем отличаются\n",
    "# Метрика называется Mean Absolute Error (MAE) и показывает среднее отклонение предсказанных значений от фактических.\n",
    "print('MAE:', metrics.mean_absolute_error(y_test, y_pred))"
   ]
  },
  {
   "cell_type": "code",
   "execution_count": 19,
   "metadata": {},
   "outputs": [
    {
     "data": {
      "text/plain": [
       "<matplotlib.axes._subplots.AxesSubplot at 0x7f0ed175b5f8>"
      ]
     },
     "execution_count": 19,
     "metadata": {},
     "output_type": "execute_result"
    },
    {
     "data": {
      "image/png": "[encoded data removed]",
      "text/plain": [
       "<Figure size 720x720 with 1 Axes>"
      ]
     },
     "metadata": {
      "needs_background": "light"
     },
     "output_type": "display_data"
    }
   ],
   "source": [
    "# в RandomForestRegressor есть возможность вывести самые важные признаки для модели\n",
    "plt.rcParams['figure.figsize'] = (10,10)\n",
    "feat_importances = pd.Series(model.feature_importances_, index=X.columns)\n",
    "feat_importances.nlargest(15).plot(kind='barh')"
   ]
  },
  {
   "cell_type": "markdown",
   "metadata": {},
   "source": [
    "# Submission"
   ]
  },
  {
   "cell_type": "code",
   "execution_count": 20,
   "metadata": {},
   "outputs": [
    {
     "name": "stderr",
     "output_type": "stream",
     "text": [
      "[Parallel(n_jobs=-1)]: Using backend ThreadingBackend with 4 concurrent workers.\n",
      "[Parallel(n_jobs=-1)]: Done  42 tasks      | elapsed:    5.9s\n",
      "[Parallel(n_jobs=-1)]: Done 100 out of 100 | elapsed:   14.4s finished\n"
     ]
    },
    {
     "data": {
      "text/plain": [
       "RandomForestRegressor(bootstrap=True, criterion='mse', max_depth=None,\n",
       "                      max_features='auto', max_leaf_nodes=None,\n",
       "                      min_impurity_decrease=0.0, min_impurity_split=None,\n",
       "                      min_samples_leaf=1, min_samples_split=2,\n",
       "                      min_weight_fraction_leaf=0.0, n_estimators=100, n_jobs=-1,\n",
       "                      oob_score=False, random_state=42, verbose=1,\n",
       "                      warm_start=False)"
      ]
     },
     "execution_count": 20,
     "metadata": {},
     "output_type": "execute_result"
    }
   ],
   "source": [
    "# Обучаем модель на всех исходных данных\n",
    "model.fit(X, y)"
   ]
  },
  {
   "cell_type": "code",
   "execution_count": 21,
   "metadata": {},
   "outputs": [
    {
     "name": "stderr",
     "output_type": "stream",
     "text": [
      "[Parallel(n_jobs=4)]: Using backend ThreadingBackend with 4 concurrent workers.\n",
      "[Parallel(n_jobs=4)]: Done  42 tasks      | elapsed:    0.1s\n",
      "[Parallel(n_jobs=4)]: Done 100 out of 100 | elapsed:    0.2s finished\n"
     ]
    }
   ],
   "source": [
    "# Запускаем на данных по заданию\n",
    "test_df = df_preproc.query('sample == 0').drop(['sample'], axis=1)\n",
    "test_df = test_df.drop(['Rating'], axis=1)\n",
    "predict_submission = model.predict(test_df)"
   ]
  },
  {
   "cell_type": "code",
   "execution_count": 22,
   "metadata": {},
   "outputs": [],
   "source": [
    "# Округляем\n",
    "sample_submission['Rating'] = predict_submission\n",
    "sample_submission['Rating'] = sample_submission['Rating'].apply(round_d)"
   ]
  },
  {
   "cell_type": "code",
   "execution_count": 23,
   "metadata": {},
   "outputs": [],
   "source": [
    "# Выгружаем в файл\n",
    "sample_submission.to_csv('submission.csv', index=False)"
   ]
  }
 ],
 "metadata": {
  "kernelspec": {
   "name": "python3",
   "display_name": "Python 3.8.6 64-bit (conda)",
   "metadata": {
    "interpreter": {
     "hash": "337f1a600d345c50cd007a2461b073851b5ec4b77bc6c65adb33d085b42175ad"
    }
   }
  },
  "language_info": {
   "codemirror_mode": {
    "name": "ipython",
    "version": 3
   },
   "file_extension": ".py",
   "mimetype": "text/x-python",
   "name": "python",
   "nbconvert_exporter": "python",
   "pygments_lexer": "ipython3",
   "version": "3.8.6-final"
  }
 },
 "nbformat": 4,
 "nbformat_minor": 4
}